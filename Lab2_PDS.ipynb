{
  "nbformat": 4,
  "nbformat_minor": 0,
  "metadata": {
    "colab": {
      "provenance": [],
      "mount_file_id": "1JlbOc5fWt9xgZroHU3FCKDdsAbBHtr4C",
      "authorship_tag": "ABX9TyPcdQ2T1Ey60Bv1tf2Qudtl",
      "include_colab_link": true
    },
    "kernelspec": {
      "name": "python3",
      "display_name": "Python 3"
    },
    "language_info": {
      "name": "python"
    }
  },
  "cells": [
    {
      "cell_type": "markdown",
      "metadata": {
        "id": "view-in-github",
        "colab_type": "text"
      },
      "source": [
        "<a href=\"https://colab.research.google.com/github/gabrielreis35/Lab2-pds/blob/master/Lab2_PDS.ipynb\" target=\"_parent\"><img src=\"https://colab.research.google.com/assets/colab-badge.svg\" alt=\"Open In Colab\"/></a>"
      ]
    },
    {
      "cell_type": "code",
      "source": [
        "import numpy as np\n",
        "import matplotlib.pyplot as plt\n",
        "import soundfile as sf\n",
        "from scipy.fftpack import fft"
      ],
      "metadata": {
        "id": "IhnjqN-ya4fx"
      },
      "execution_count": null,
      "outputs": []
    },
    {
      "cell_type": "code",
      "source": [
        "file_path = '/content/Nota 02.wav'\n",
        "audio_signal, sample_rate = sf.read(file_path)"
      ],
      "metadata": {
        "id": "6EQaPb6ZbUZ7"
      },
      "execution_count": null,
      "outputs": []
    },
    {
      "cell_type": "code",
      "source": [
        "len(audio_signal.shape)"
      ],
      "metadata": {
        "colab": {
          "base_uri": "https://localhost:8080/"
        },
        "id": "1pjzSeFQbZ0U",
        "outputId": "1735b6f1-496d-4905-d717-70d1f722da7b"
      },
      "execution_count": null,
      "outputs": [
        {
          "output_type": "execute_result",
          "data": {
            "text/plain": [
              "2"
            ]
          },
          "metadata": {},
          "execution_count": 25
        }
      ]
    },
    {
      "cell_type": "code",
      "source": [
        "if len(audio_signal.shape) > 1:\n",
        "    audio_signal = audio_signal[:, 0]"
      ],
      "metadata": {
        "id": "6F4rMYx5bj5y"
      },
      "execution_count": null,
      "outputs": []
    },
    {
      "cell_type": "code",
      "source": [
        "n = len(audio_signal)\n",
        "audio_fft = fft(audio_signal)\n",
        "frequencies = np.fft.fftfreq(n, 1/sample_rate)"
      ],
      "metadata": {
        "id": "gKNVRmP0blT-"
      },
      "execution_count": null,
      "outputs": []
    },
    {
      "cell_type": "code",
      "source": [
        "magnitude = np.abs(audio_fft)\n",
        "frequency_index = np.argmax(magnitude)\n",
        "dominant_frequency = abs(frequencies[frequency_index])"
      ],
      "metadata": {
        "id": "ZDhN1gBfcujE"
      },
      "execution_count": null,
      "outputs": []
    },
    {
      "cell_type": "code",
      "source": [
        "frequencies[frequency_index]"
      ],
      "metadata": {
        "colab": {
          "base_uri": "https://localhost:8080/"
        },
        "id": "mjVdmgGRcuZ7",
        "outputId": "2290af10-262c-4a10-dfcd-7a3770f386c3"
      },
      "execution_count": null,
      "outputs": [
        {
          "output_type": "execute_result",
          "data": {
            "text/plain": [
              "418.04639660857276"
            ]
          },
          "metadata": {},
          "execution_count": 29
        }
      ]
    },
    {
      "cell_type": "markdown",
      "source": [
        "# A nota 1 (frequencia 443) é referente à nota A e a nota 2 (frequencia 418) é referente à nota B"
      ],
      "metadata": {
        "id": "ynVWHYieemiG"
      }
    }
  ]
}