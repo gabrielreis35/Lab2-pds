{
  "nbformat": 4,
  "nbformat_minor": 0,
  "metadata": {
    "colab": {
      "provenance": [],
      "mount_file_id": "1JlbOc5fWt9xgZroHU3FCKDdsAbBHtr4C",
      "authorship_tag": "ABX9TyPSWDtjugHAWuiIFYwFx965",
      "include_colab_link": true
    },
    "kernelspec": {
      "name": "python3",
      "display_name": "Python 3"
    },
    "language_info": {
      "name": "python"
    }
  },
  "cells": [
    {
      "cell_type": "markdown",
      "metadata": {
        "id": "view-in-github",
        "colab_type": "text"
      },
      "source": [
        "<a href=\"https://colab.research.google.com/github/gabrielreis35/Lab2-pds/blob/master/Lab2_PDS.ipynb\" target=\"_parent\"><img src=\"https://colab.research.google.com/assets/colab-badge.svg\" alt=\"Open In Colab\"/></a>"
      ]
    },
    {
      "cell_type": "code",
      "source": [
        "import numpy as np\n",
        "import matplotlib.pyplot as plt\n",
        "import soundfile as sf\n",
        "from scipy.fftpack import fft\n",
        "import librosa"
      ],
      "metadata": {
        "id": "IhnjqN-ya4fx"
      },
      "execution_count": 221,
      "outputs": []
    },
    {
      "cell_type": "code",
      "source": [
        "path = '/content/Nota 01.wav'\n",
        "audio_data, sample_rate = sf.read(path)"
      ],
      "metadata": {
        "id": "6EQaPb6ZbUZ7"
      },
      "execution_count": 222,
      "outputs": []
    },
    {
      "cell_type": "code",
      "source": [
        "len(audio_data.shape)"
      ],
      "metadata": {
        "colab": {
          "base_uri": "https://localhost:8080/"
        },
        "id": "1pjzSeFQbZ0U",
        "outputId": "5f0a6091-130f-4c01-86ec-a9d09c9b58a3"
      },
      "execution_count": 223,
      "outputs": [
        {
          "output_type": "execute_result",
          "data": {
            "text/plain": [
              "2"
            ]
          },
          "metadata": {},
          "execution_count": 223
        }
      ]
    },
    {
      "cell_type": "code",
      "source": [
        "if len(audio_data.shape) > 1:\n",
        "    audio_data = audio_data[:, 0]"
      ],
      "metadata": {
        "id": "6F4rMYx5bj5y"
      },
      "execution_count": 224,
      "outputs": []
    },
    {
      "cell_type": "markdown",
      "source": [
        "Transformada de Fourier\n",
        "\n",
        "O audio_fft faz a transformação da variável do domínio do tempo para o domínio\n",
        "da frequência.\n",
        "\n",
        "tamanho da amostra\n",
        "transformada de fourier, com a entrada sendo o sinal no domínio do tempo\n",
        "A entrada é o tamanho da amostra no primeiro parâmetro, e o intervalo de tempo entre as amostras. a saída é um array de frequência"
      ],
      "metadata": {
        "id": "RaWtWUZQlXT2"
      }
    },
    {
      "cell_type": "code",
      "source": [
        "n = len(audio_data)\n",
        "audio_fft = fft(audio_data)\n",
        "frequencies = np.fft.fftfreq(n, 1/sample_rate)"
      ],
      "metadata": {
        "id": "gKNVRmP0blT-"
      },
      "execution_count": 225,
      "outputs": []
    },
    {
      "cell_type": "markdown",
      "source": [
        "entrada sendo a transformada, com a saída sendo o sinal absoluto da magnitude\n",
        "pega o índice da magnitude\n",
        "pega a frequencia dominante pelo index"
      ],
      "metadata": {
        "id": "veNUfziHrDnH"
      }
    },
    {
      "cell_type": "code",
      "source": [
        "magnitude = np.abs(audio_fft)\n",
        "frequency_index = np.argmax(magnitude)\n",
        "dominant_frequency = abs(frequencies[frequency_index])\n",
        "dominant_frequency"
      ],
      "metadata": {
        "id": "ZDhN1gBfcujE",
        "colab": {
          "base_uri": "https://localhost:8080/"
        },
        "outputId": "9f4b193f-ecd5-4d03-994a-01a2eded78ee"
      },
      "execution_count": 226,
      "outputs": [
        {
          "output_type": "execute_result",
          "data": {
            "text/plain": [
              "443.3628709373528"
            ]
          },
          "metadata": {},
          "execution_count": 226
        }
      ]
    },
    {
      "cell_type": "code",
      "source": [
        "nota = librosa.hz_to_note(dominant_frequency)\n",
        "nota"
      ],
      "metadata": {
        "colab": {
          "base_uri": "https://localhost:8080/",
          "height": 35
        },
        "id": "vFgZy1vEjeiL",
        "outputId": "cc8ae42d-3e6c-4690-caa5-164cad0a7fb3"
      },
      "execution_count": 227,
      "outputs": [
        {
          "output_type": "execute_result",
          "data": {
            "text/plain": [
              "'A4'"
            ],
            "application/vnd.google.colaboratory.intrinsic+json": {
              "type": "string"
            }
          },
          "metadata": {},
          "execution_count": 227
        }
      ]
    },
    {
      "cell_type": "code",
      "source": [
        "time = np.linspace(0, n/sample_rate, num=n)"
      ],
      "metadata": {
        "id": "viivBTllkiTA"
      },
      "execution_count": 228,
      "outputs": []
    },
    {
      "cell_type": "code",
      "source": [
        "plt.subplot(2, 1, 1)\n",
        "plt.plot(time, audio_data)\n",
        "plt.title(\"Sinal no Tempo\")\n",
        "plt.xlabel(\"Tempo (s)\")\n",
        "plt.ylabel(\"Amplitude\")"
      ],
      "metadata": {
        "colab": {
          "base_uri": "https://localhost:8080/",
          "height": 287
        },
        "id": "GuVajg8Gj9-J",
        "outputId": "ce730b5d-3d41-42bb-9e3e-83adac21143c"
      },
      "execution_count": 229,
      "outputs": [
        {
          "output_type": "execute_result",
          "data": {
            "text/plain": [
              "Text(0, 0.5, 'Amplitude')"
            ]
          },
          "metadata": {},
          "execution_count": 229
        },
        {
          "output_type": "display_data",
          "data": {
            "text/plain": [
              "<Figure size 640x480 with 1 Axes>"
            ],
            "image/png": "[encoded data removed]"
          },
          "metadata": {}
        }
      ]
    },
    {
      "cell_type": "code",
      "source": [],
      "metadata": {
        "id": "DJSRFJp9k4fi"
      },
      "execution_count": 229,
      "outputs": []
    }
  ]
}