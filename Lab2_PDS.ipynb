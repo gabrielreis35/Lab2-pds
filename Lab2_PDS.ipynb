{
  "nbformat": 4,
  "nbformat_minor": 0,
  "metadata": {
    "colab": {
      "provenance": [],
      "mount_file_id": "1JlbOc5fWt9xgZroHU3FCKDdsAbBHtr4C",
      "authorship_tag": "ABX9TyN/iIvkgxfRDfFK5YOgFUem",
      "include_colab_link": true
    },
    "kernelspec": {
      "name": "python3",
      "display_name": "Python 3"
    },
    "language_info": {
      "name": "python"
    }
  },
  "cells": [
    {
      "cell_type": "markdown",
      "metadata": {
        "id": "view-in-github",
        "colab_type": "text"
      },
      "source": [
        "<a href=\"https://colab.research.google.com/github/gabrielreis35/Lab2-pds/blob/master/Lab2_PDS.ipynb\" target=\"_parent\"><img src=\"https://colab.research.google.com/assets/colab-badge.svg\" alt=\"Open In Colab\"/></a>"
      ]
    },
    {
      "cell_type": "code",
      "source": [
        "import numpy as np\n",
        "import matplotlib.pyplot as plt\n",
        "import soundfile as sf\n",
        "from scipy.fftpack import fft\n",
        "import librosa"
      ],
      "metadata": {
        "id": "IhnjqN-ya4fx"
      },
      "execution_count": 109,
      "outputs": []
    },
    {
      "cell_type": "code",
      "source": [
        "file_path = '/content/Nota 02.wav'\n",
        "audio_signal, sample_rate = sf.read(file_path)"
      ],
      "metadata": {
        "id": "6EQaPb6ZbUZ7"
      },
      "execution_count": 110,
      "outputs": []
    },
    {
      "cell_type": "code",
      "source": [
        "len(audio_signal.shape)"
      ],
      "metadata": {
        "colab": {
          "base_uri": "https://localhost:8080/"
        },
        "id": "1pjzSeFQbZ0U",
        "outputId": "50f4f742-73f9-4813-eb51-fb80ce9b577b"
      },
      "execution_count": 111,
      "outputs": [
        {
          "output_type": "execute_result",
          "data": {
            "text/plain": [
              "2"
            ]
          },
          "metadata": {},
          "execution_count": 111
        }
      ]
    },
    {
      "cell_type": "code",
      "source": [
        "if len(audio_signal.shape) > 1:\n",
        "    audio_signal = audio_signal[:, 0]"
      ],
      "metadata": {
        "id": "6F4rMYx5bj5y"
      },
      "execution_count": 112,
      "outputs": []
    },
    {
      "cell_type": "markdown",
      "source": [
        "Transformada de Fourier\n",
        "\n",
        "O audio_fft faz a transformação da variável do domínio do tempo para o domínio\n",
        "da frequência."
      ],
      "metadata": {
        "id": "RaWtWUZQlXT2"
      }
    },
    {
      "cell_type": "code",
      "source": [
        "n = len(audio_signal)\n",
        "audio_fft = fft(audio_signal)\n",
        "frequencies = np.fft.fftfreq(n, 1/sample_rate)"
      ],
      "metadata": {
        "id": "gKNVRmP0blT-"
      },
      "execution_count": 113,
      "outputs": []
    },
    {
      "cell_type": "code",
      "source": [
        "magnitude = np.abs(audio_fft)\n",
        "frequency_index = np.argmax(magnitude)\n",
        "dominant_frequency = abs(frequencies[frequency_index])"
      ],
      "metadata": {
        "id": "ZDhN1gBfcujE"
      },
      "execution_count": 114,
      "outputs": []
    },
    {
      "cell_type": "code",
      "source": [
        "frequencies[frequency_index]\n",
        "frequencia_certa = frequencies[frequency_index]"
      ],
      "metadata": {
        "id": "mjVdmgGRcuZ7"
      },
      "execution_count": 115,
      "outputs": []
    },
    {
      "cell_type": "code",
      "source": [
        "nota_hz = librosa.hz_to_midi(frequencia_certa)\n",
        "nota_hz"
      ],
      "metadata": {
        "colab": {
          "base_uri": "https://localhost:8080/"
        },
        "id": "vFgZy1vEjeiL",
        "outputId": "e5d5b5c2-8487-4f02-ce30-cc33eb836d41"
      },
      "execution_count": 116,
      "outputs": [
        {
          "output_type": "execute_result",
          "data": {
            "text/plain": [
              "68.11391452820189"
            ]
          },
          "metadata": {},
          "execution_count": 116
        }
      ]
    },
    {
      "cell_type": "code",
      "source": [
        "librosa.midi_to_note(nota_hz)"
      ],
      "metadata": {
        "colab": {
          "base_uri": "https://localhost:8080/",
          "height": 35
        },
        "id": "5MTcEoNLhqx-",
        "outputId": "016a2426-6030-43c7-f77a-5bf026f9137a"
      },
      "execution_count": 117,
      "outputs": [
        {
          "output_type": "execute_result",
          "data": {
            "text/plain": [
              "'G♯4'"
            ],
            "application/vnd.google.colaboratory.intrinsic+json": {
              "type": "string"
            }
          },
          "metadata": {},
          "execution_count": 117
        }
      ]
    },
    {
      "cell_type": "code",
      "source": [
        "time = np.linspace(0, n/sample_rate, num=n)"
      ],
      "metadata": {
        "id": "viivBTllkiTA"
      },
      "execution_count": 118,
      "outputs": []
    },
    {
      "cell_type": "code",
      "source": [
        "plt.subplot(2, 1, 1)\n",
        "plt.plot(time, audio_signal)\n",
        "plt.title(\"Sinal no Tempo\")\n",
        "plt.xlabel(\"Tempo (s)\")\n",
        "plt.ylabel(\"Amplitude\")"
      ],
      "metadata": {
        "colab": {
          "base_uri": "https://localhost:8080/",
          "height": 287
        },
        "id": "GuVajg8Gj9-J",
        "outputId": "655c7a02-a22c-4d95-820b-255d9fcd29b2"
      },
      "execution_count": 119,
      "outputs": [
        {
          "output_type": "execute_result",
          "data": {
            "text/plain": [
              "Text(0, 0.5, 'Amplitude')"
            ]
          },
          "metadata": {},
          "execution_count": 119
        },
        {
          "output_type": "display_data",
          "data": {
            "text/plain": [
              "<Figure size 640x480 with 1 Axes>"
            ],
            "image/png": "[encoded data removed]"
          },
          "metadata": {}
        }
      ]
    },
    {
      "cell_type": "code",
      "source": [],
      "metadata": {
        "id": "DJSRFJp9k4fi"
      },
      "execution_count": 119,
      "outputs": []
    }
  ]
}