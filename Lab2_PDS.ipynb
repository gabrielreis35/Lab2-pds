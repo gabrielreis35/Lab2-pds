{
  "nbformat": 4,
  "nbformat_minor": 0,
  "metadata": {
    "colab": {
      "provenance": [],
      "mount_file_id": "1JlbOc5fWt9xgZroHU3FCKDdsAbBHtr4C",
      "authorship_tag": "ABX9TyPynpK2J2XoqyyRmfTwSPoa",
      "include_colab_link": true
    },
    "kernelspec": {
      "name": "python3",
      "display_name": "Python 3"
    },
    "language_info": {
      "name": "python"
    }
  },
  "cells": [
    {
      "cell_type": "markdown",
      "metadata": {
        "id": "view-in-github",
        "colab_type": "text"
      },
      "source": [
        "<a href=\"https://colab.research.google.com/github/gabrielreis35/Lab2-pds/blob/master/Lab2_PDS.ipynb\" target=\"_parent\"><img src=\"https://colab.research.google.com/assets/colab-badge.svg\" alt=\"Open In Colab\"/></a>"
      ]
    },
    {
      "cell_type": "code",
      "source": [
        "import numpy as np\n",
        "import matplotlib.pyplot as plt\n",
        "import soundfile as sf\n",
        "from scipy.fftpack import fft\n",
        "import librosa"
      ],
      "metadata": {
        "id": "IhnjqN-ya4fx"
      },
      "execution_count": 44,
      "outputs": []
    },
    {
      "cell_type": "code",
      "source": [
        "file_path = '/content/Nota 01.wav'\n",
        "audio_signal, sample_rate = sf.read(file_path)"
      ],
      "metadata": {
        "id": "6EQaPb6ZbUZ7"
      },
      "execution_count": 45,
      "outputs": []
    },
    {
      "cell_type": "code",
      "source": [
        "len(audio_signal.shape)"
      ],
      "metadata": {
        "colab": {
          "base_uri": "https://localhost:8080/"
        },
        "id": "1pjzSeFQbZ0U",
        "outputId": "947f2ac7-8d61-478a-8aa8-b3a7554c8721"
      },
      "execution_count": 46,
      "outputs": [
        {
          "output_type": "execute_result",
          "data": {
            "text/plain": [
              "2"
            ]
          },
          "metadata": {},
          "execution_count": 46
        }
      ]
    },
    {
      "cell_type": "code",
      "source": [
        "if len(audio_signal.shape) > 1:\n",
        "    audio_signal = audio_signal[:, 0]"
      ],
      "metadata": {
        "id": "6F4rMYx5bj5y"
      },
      "execution_count": 47,
      "outputs": []
    },
    {
      "cell_type": "code",
      "source": [
        "n = len(audio_signal)\n",
        "audio_fft = fft(audio_signal)\n",
        "frequencies = np.fft.fftfreq(n, 1/sample_rate)"
      ],
      "metadata": {
        "id": "gKNVRmP0blT-"
      },
      "execution_count": 48,
      "outputs": []
    },
    {
      "cell_type": "code",
      "source": [
        "magnitude = np.abs(audio_fft)\n",
        "frequency_index = np.argmax(magnitude)\n",
        "dominant_frequency = abs(frequencies[frequency_index])"
      ],
      "metadata": {
        "id": "ZDhN1gBfcujE"
      },
      "execution_count": 49,
      "outputs": []
    },
    {
      "cell_type": "code",
      "source": [
        "frequencies[frequency_index]"
      ],
      "metadata": {
        "colab": {
          "base_uri": "https://localhost:8080/"
        },
        "id": "mjVdmgGRcuZ7",
        "outputId": "4f5f83bf-1836-4e54-f012-30e5fcb23545"
      },
      "execution_count": 50,
      "outputs": [
        {
          "output_type": "execute_result",
          "data": {
            "text/plain": [
              "443.3628709373528"
            ]
          },
          "metadata": {},
          "execution_count": 50
        }
      ]
    },
    {
      "cell_type": "code",
      "source": [
        "librosa.midi_to_note(frequencies[frequency_index], unicode = False)"
      ],
      "metadata": {
        "colab": {
          "base_uri": "https://localhost:8080/",
          "height": 35
        },
        "id": "5MTcEoNLhqx-",
        "outputId": "b31c5307-0ea2-4d4b-b462-22f80a3fb499"
      },
      "execution_count": 54,
      "outputs": [
        {
          "output_type": "execute_result",
          "data": {
            "text/plain": [
              "'B35'"
            ],
            "application/vnd.google.colaboratory.intrinsic+json": {
              "type": "string"
            }
          },
          "metadata": {},
          "execution_count": 54
        }
      ]
    }
  ]
}